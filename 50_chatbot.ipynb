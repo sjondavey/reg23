{
 "cells": [
  {
   "cell_type": "code",
   "execution_count": 1,
   "metadata": {},
   "outputs": [],
   "source": [
    "import importlib\n",
    "import src.chat_bot\n",
    "importlib.reload(src.chat_bot)\n",
    "from src.chat_bot import PopiaAct"
   ]
  },
  {
   "cell_type": "code",
   "execution_count": 42,
   "metadata": {},
   "outputs": [],
   "source": [
    "\n",
    "logging_level = 15\n",
    "#logging_level = 20\n",
    "log_file = ''\n",
    "\n",
    "path_to_manual_as_csv_file = \"./inputs/popia_manual.csv\"\n",
    "path_to_definitions_as_parquet_file = \"./inputs/popia_definitions.parquet\"\n",
    "path_to_index_as_parquet_file = \"./inputs/popia_index.parquet\"\n",
    "\n",
    "\n",
    "popia = PopiaAct(path_to_manual_as_csv_file, path_to_definitions_as_parquet_file, path_to_index_as_parquet_file, log_file=log_file, logging_level=logging_level)\n"
   ]
  },
  {
   "cell_type": "code",
   "execution_count": 33,
   "metadata": {},
   "outputs": [
    {
     "name": "stdout",
     "output_type": "stream",
     "text": [
      "56. Designation and delegation of deputy information officers\n",
      "Each public and private body must make provision, in the manner prescribed in section 17 of the Promotion of Access to Information Act, with the necessary changes, for the designation of—\n",
      "        (a) such a number of persons, if any, as deputy information officers as is necessary to perform the duties and responsibilities as set out in section 55(1) of thisAct; and\n",
      "        (b) any power or duty conferred or imposed on an information officer by this Act to a deputy information officer of that public or private body.\n",
      "Prior authorisation\n"
     ]
    }
   ],
   "source": [
    "print(popia.get_regulation_detail(\"56.\"))"
   ]
  },
  {
   "cell_type": "code",
   "execution_count": 47,
   "metadata": {},
   "outputs": [],
   "source": [
    "#model_to_use=\"gpt-3.5-turbo\"\n",
    "#model_to_use = \"gpt-4-1106-preview\"\n",
    "model_to_use=\"gpt-4\"\n",
    "#model_to_use=\"gpt-3.5-turbo-16k\""
   ]
  },
  {
   "cell_type": "code",
   "execution_count": 48,
   "metadata": {},
   "outputs": [
    {
     "name": "stderr",
     "output_type": "stream",
     "text": [
      "INFO:src.chat_bot:User Question:\n",
      "what do I need to do to comply with the act?\n",
      "INFO:httpx:HTTP Request: POST https://api.openai.com/v1/embeddings \"HTTP/1.1 200 OK\"\n",
      "DEV:src.chat_bot:#################   Similarity Search       #################\n",
      "DEV:src.chat_bot:--   No relevant definitions found\n",
      "DEV:src.chat_bot:--   Relevant Sections\n",
      "DEV:src.chat_bot:0.0948:                  56.:          manual: What do I need to do to comply with POPIA?\n",
      "DEV:src.chat_bot:0.1362:                  96.:        question: What can be done if I believe compliance with an enforcement notice is no longer necessary? \n",
      "DEV:src.chat_bot:0.1380:                  75.:        question: What are the requirements for submitting a complaint?\n",
      "DEV:src.chat_bot:0.1420:                   6.:        question: What are the exemptions to Act?\n",
      "DEV:src.chat_bot:0.1462:              109.(4):        question: What happens if I want to contest an allegation of non-compliance?\n",
      "DEV:src.chat_bot:Top result: 56. with a cosine distance of 0.0948\n",
      "DEV:src.chat_bot:No unique mode\n",
      "DEV:src.chat_bot:Only the top result added but more were found. Adding the next most likely answer\n",
      "DEV:src.chat_bot:--   Filtered Sections\n",
      "DEV:src.chat_bot:0.0948            :                  56.:  1\n",
      "DEV:src.chat_bot:0.1362            :                  96.:  1\n",
      "DEV:src.chat_bot:0.1380            :                  75.:  1\n",
      "DEV:src.chat_bot:#################   RAG Prompts   #################\n",
      "INFO:src.chat_bot:System Prompt:\n",
      "You are answering questions for an Responsible Party based only on the relevant sections from the 'Protection of Personal Information Act' (POPIA) that are provided. You have three options:\n",
      "1) Answer the question. Preface an answer with the tag 'ANSWER:'. If possible, end the answer with the reference to the section or sections you used to answer the question.\n",
      "2) Request additional documentation. If, in the body of the sections provided, there is a reference to another section of the Manual that is directly relevant and not already provided, respond with the word 'SECTION:' followed by the full section reference.\n",
      "3) State 'NONE:' and nothing else in all other cases\n",
      "\n",
      "Note: In the manual sections are numbered like 100.(a) or 47.(1)(a). The first index uses the regex pattern r'(?:[1-9]|[1-9][0-9]|[1-9][0-9]2)\\.'. The second is a number in round brackets which may or may not be there. Thereafter, each sub-index is surrounded by round brackets\n",
      "INFO:src.chat_bot:User Prompt with RAG:\n",
      "Question: what do I need to do to comply with the act?\n",
      "\n",
      "Sections from the Manual\n",
      "56. Designation and delegation of deputy information officers\n",
      "Each public and private body must make provision, in the manner prescribed in section 17 of the Promotion of Access to Information Act, with the necessary changes, for the designation of—\n",
      "        (a) such a number of persons, if any, as deputy information officers as is necessary to perform the duties and responsibilities as set out in section 55(1) of thisAct; and\n",
      "        (b) any power or duty conferred or imposed on an information officer by this Act to a deputy information officer of that public or private body.\n",
      "Prior authorisation\n",
      "96. Cancellation of enforcement notice\n",
      "    (1) A responsible party on whom an enforcement notice has been served may, at any time after the expiry of the period during which an appeal may be brought against that notice, apply in writing to the Regulator for the cancellation or variation of that notice on the ground that, by reason of a change of circumstances, all or any of the provisions of that notice need not be complied with in order to ensure compliance with the conditions for the lawful processing of personal information.\n",
      "    (2) If the Regulator considers that all or any of the provisions of an enforcement notice need not be complied with in order to ensure compliance with a condition for the lawful processing of personal information or conditions to which it relates, it may cancel or vary the notice by written notice to the responsible party on whom it was served.\n",
      "75. Mode of complaints to Regulator\n",
      "    (1) A complaint to the Regulator must be made in writing.\n",
      "    (2) The Regulator must give such reasonable assistance as is necessary in the circumstances to enable a person, who wishes to make a complaint to the Regulator, to put the complaint in writing.\n",
      "\n",
      "INFO:httpx:HTTP Request: POST https://api.openai.com/v1/chat/completions \"HTTP/1.1 200 OK\"\n",
      "INFO:src.chat_bot:assistant:\n",
      " To comply with the act, you need to designate a certain number of persons as deputy information officers as necessary to perform the duties and responsibilities set out in the act. If an enforcement notice has been served, you may apply in writing to the Regulator for the cancellation or variation of that notice if there has been a change of circumstances. Any complaints to the Regulator must be made in writing. [Sections 56, 96, 75]\n"
     ]
    },
    {
     "name": "stdout",
     "output_type": "stream",
     "text": [
      "To comply with the act, you need to designate a certain number of persons as deputy information officers as necessary to perform the duties and responsibilities set out in the act. If an enforcement notice has been served, you may apply in writing to the Regulator for the cancellation or variation of that notice if there has been a change of circumstances. Any complaints to the Regulator must be made in writing. [Sections 56, 96, 75]\n"
     ]
    }
   ],
   "source": [
    "#user_context = \"What is personal information?\"\n",
    "#user_context = \"How should I protect personal information?\"\n",
    "#user_context = \"What are the risks associated with storing personal information?\"\n",
    "#user_context = \"Does POPIA apply to all industries?\"\n",
    "#user_context = \"What does a data protection framework need to address?\"\n",
    "\n",
    "\n",
    "\n",
    "user_context = \"As a medium size company, what do I need to do to comply with POPIA?\"\n",
    "user_context = \"Do I need to employ additional staff?\"\n",
    "user_context = \"What is an information officer?\"\n",
    "user_context = \"Does every company need an information officer?\"\n",
    "user_context = \"what do I need to do to comply with the act?\"\n",
    "\n",
    "\n",
    "popia.reset_conversation_history()\n",
    "popia.user_provides_input(user_context, threshold=0.15, model_to_use=model_to_use, temperature=0, max_tokens=300)\n",
    "print(popia.messages[-1][\"content\"])\n"
   ]
  },
  {
   "cell_type": "code",
   "execution_count": 7,
   "metadata": {},
   "outputs": [
    {
     "data": {
      "text/plain": [
       "[{'role': 'user',\n",
       "  'content': \"Question: what does the regulation state about travel?\\n\\nSections from the Manual\\nB.4 Single discretionary allowance and other miscellaneous payments for private individuals\\n    (B) Travel allowances\\n        (i) General\\n            (a) There is no limit on the amount of Rand that may be spent on travelling within the CMA.\\n            (b) Residents (natural persons) who are under the age of 18 years may not be accorded single discretionary allowance as outlined in subsection (A)(i) above, but may be accorded a travel allowance not exceeding an amount of R200 000 per calendar year.\\n            (c) In addition, up to R25 000 in cash, per person, may be taken when proceeding on visits outside the CMA, to meet travellers' immediate needs on return to South Africa.\\n            (d) When according travel allowances to persons who do not conduct accounts in their books, Authorised Dealers must record such persons' names, nationalities, residential addresses and telephone numbers to facilitate communication if needed.\\n            (e) Visiting artistes, entertainers, sportspersons and other similar professionals may not be accorded the facilities outlined in this section of the Authorised Dealer Manual.\\nB.4 Single discretionary allowance and other miscellaneous payments for private individuals\\n    (B) Travel allowances\\n        (ii) Travel allowance limits\\n            (a) Foreign currency may be made available within the single discretionary allowance limit of R1 million per calendar year, to the eligible parties mentioned in (iv) below, provided that the requirements of (ix) below are complied with.\\n            (b) Residents (natural persons) who are under the age of 18 years may be accorded a travel allowance not exceeding an amount of R200 000 per calendar year.\\n\"},\n",
       " {'role': 'assistant',\n",
       "  'content': 'The regulation states that there is no limit on the amount of Rand that may be spent on traveling within the Common Monetary Area (CMA). Residents who are under the age of 18 years may be accorded a travel allowance not exceeding an amount of R200 000 per calendar year. Additionally, up to R25 000 in cash per person may be taken when proceeding on visits outside the CMA to meet immediate needs on return to South Africa. Visiting artistes, entertainers, sportspersons, and other similar professionals may not be accorded the facilities outlined in this section of the Authorised Dealer Manual. Foreign currency may be made available within the single discretionary allowance limit of R1 million per calendar year to eligible parties, subject to compliance with certain requirements. (B.4(B)(i)(a), (b), (c), (e), (ii)(a), (b))'}]"
      ]
     },
     "execution_count": 7,
     "metadata": {},
     "output_type": "execute_result"
    }
   ],
   "source": [
    "popia.messages"
   ]
  },
  {
   "cell_type": "code",
   "execution_count": 26,
   "metadata": {},
   "outputs": [],
   "source": [
    "import pandas as pd \n",
    "tmp_df = pd.read_parquet(path_to_index_as_parquet_file)\n"
   ]
  },
  {
   "cell_type": "code",
   "execution_count": 41,
   "metadata": {},
   "outputs": [],
   "source": [
    "tmp_df.to_parquet(path_to_index_as_parquet_file, engine='pyarrow')"
   ]
  },
  {
   "cell_type": "code",
   "execution_count": 37,
   "metadata": {},
   "outputs": [
    {
     "name": "stderr",
     "output_type": "stream",
     "text": [
      "INFO:httpx:HTTP Request: POST https://api.openai.com/v1/embeddings \"HTTP/1.1 200 OK\"\n"
     ]
    }
   ],
   "source": [
    "import src.embeddings\n",
    "importlib.reload(src.embeddings)\n",
    "from src.embeddings import get_ada_embedding, num_tokens_from_string\n",
    "\n",
    "\n",
    "# Example values for the new row\n",
    "question = 'What do I need to do to comply with POPIA?'\n",
    "embedding = get_ada_embedding(question)\n",
    "\n",
    "new_row = {\n",
    "    'section': '56.',\n",
    "    'text': question,\n",
    "    'source': 'manual',\n",
    "    'Embedding': embedding\n",
    "}\n",
    "\n",
    "# Adding the new row to the dataframe\n",
    "tmp_df.loc[len(tmp_df)] = new_row"
   ]
  },
  {
   "cell_type": "code",
   "execution_count": 40,
   "metadata": {},
   "outputs": [
    {
     "data": {
      "text/html": [
       "<div>\n",
       "<style scoped>\n",
       "    .dataframe tbody tr th:only-of-type {\n",
       "        vertical-align: middle;\n",
       "    }\n",
       "\n",
       "    .dataframe tbody tr th {\n",
       "        vertical-align: top;\n",
       "    }\n",
       "\n",
       "    .dataframe thead th {\n",
       "        text-align: right;\n",
       "    }\n",
       "</style>\n",
       "<table border=\"1\" class=\"dataframe\">\n",
       "  <thead>\n",
       "    <tr style=\"text-align: right;\">\n",
       "      <th></th>\n",
       "      <th>section</th>\n",
       "      <th>text</th>\n",
       "      <th>source</th>\n",
       "      <th>Embedding</th>\n",
       "    </tr>\n",
       "  </thead>\n",
       "  <tbody>\n",
       "    <tr>\n",
       "      <th>0</th>\n",
       "      <td>2.</td>\n",
       "      <td>What is the purpose of the Protection of Perso...</td>\n",
       "      <td>question</td>\n",
       "      <td>[-0.00897529348731041, -0.004865928087383509, ...</td>\n",
       "    </tr>\n",
       "    <tr>\n",
       "      <th>1</th>\n",
       "      <td>2.</td>\n",
       "      <td>What rights does the Act provide individuals ...</td>\n",
       "      <td>question</td>\n",
       "      <td>[-0.0016322160372510552, 0.0023074529599398375...</td>\n",
       "    </tr>\n",
       "    <tr>\n",
       "      <th>2</th>\n",
       "      <td>2.</td>\n",
       "      <td>What kind of regulatory body is established b...</td>\n",
       "      <td>question</td>\n",
       "      <td>[0.004339318256825209, -0.012121826410293579, ...</td>\n",
       "    </tr>\n",
       "    <tr>\n",
       "      <th>3</th>\n",
       "      <td>3.</td>\n",
       "      <td>What data or information does POPIA apply to?</td>\n",
       "      <td>question</td>\n",
       "      <td>[0.0023713144473731518, 0.0032313510309904814,...</td>\n",
       "    </tr>\n",
       "    <tr>\n",
       "      <th>4</th>\n",
       "      <td>3.</td>\n",
       "      <td>How does the POPIA interact with other laws r...</td>\n",
       "      <td>question</td>\n",
       "      <td>[0.003651085076853633, 0.010420947335660458, 0...</td>\n",
       "    </tr>\n",
       "    <tr>\n",
       "      <th>...</th>\n",
       "      <td>...</td>\n",
       "      <td>...</td>\n",
       "      <td>...</td>\n",
       "      <td>...</td>\n",
       "    </tr>\n",
       "    <tr>\n",
       "      <th>482</th>\n",
       "      <td>112.</td>\n",
       "      <td>Regulations</td>\n",
       "      <td>heading</td>\n",
       "      <td>[0.0018349532037973404, -0.012941248714923859,...</td>\n",
       "    </tr>\n",
       "    <tr>\n",
       "      <th>483</th>\n",
       "      <td>113.</td>\n",
       "      <td>Procedure for making regulations</td>\n",
       "      <td>heading</td>\n",
       "      <td>[0.009133221581578255, 0.004106280393898487, -...</td>\n",
       "    </tr>\n",
       "    <tr>\n",
       "      <th>484</th>\n",
       "      <td>114.</td>\n",
       "      <td>Transitional arrangements</td>\n",
       "      <td>heading</td>\n",
       "      <td>[0.00048234881251119077, -0.011674447916448116...</td>\n",
       "    </tr>\n",
       "    <tr>\n",
       "      <th>485</th>\n",
       "      <td>115.</td>\n",
       "      <td>Short title and commencement</td>\n",
       "      <td>heading</td>\n",
       "      <td>[-0.004542532376945019, -0.0018438507104292512...</td>\n",
       "    </tr>\n",
       "    <tr>\n",
       "      <th>486</th>\n",
       "      <td>56.</td>\n",
       "      <td>What do I need to do to comply with POPIA?</td>\n",
       "      <td>manual</td>\n",
       "      <td>[0.0013906048843637109, -0.005211214534938335,...</td>\n",
       "    </tr>\n",
       "  </tbody>\n",
       "</table>\n",
       "<p>487 rows × 4 columns</p>\n",
       "</div>"
      ],
      "text/plain": [
       "    section                                               text    source  \\\n",
       "0        2.  What is the purpose of the Protection of Perso...  question   \n",
       "1        2.   What rights does the Act provide individuals ...  question   \n",
       "2        2.   What kind of regulatory body is established b...  question   \n",
       "3        3.     What data or information does POPIA apply to?   question   \n",
       "4        3.   How does the POPIA interact with other laws r...  question   \n",
       "..      ...                                                ...       ...   \n",
       "482    112.                                        Regulations   heading   \n",
       "483    113.                   Procedure for making regulations   heading   \n",
       "484    114.                          Transitional arrangements   heading   \n",
       "485    115.                       Short title and commencement   heading   \n",
       "486     56.         What do I need to do to comply with POPIA?    manual   \n",
       "\n",
       "                                             Embedding  \n",
       "0    [-0.00897529348731041, -0.004865928087383509, ...  \n",
       "1    [-0.0016322160372510552, 0.0023074529599398375...  \n",
       "2    [0.004339318256825209, -0.012121826410293579, ...  \n",
       "3    [0.0023713144473731518, 0.0032313510309904814,...  \n",
       "4    [0.003651085076853633, 0.010420947335660458, 0...  \n",
       "..                                                 ...  \n",
       "482  [0.0018349532037973404, -0.012941248714923859,...  \n",
       "483  [0.009133221581578255, 0.004106280393898487, -...  \n",
       "484  [0.00048234881251119077, -0.011674447916448116...  \n",
       "485  [-0.004542532376945019, -0.0018438507104292512...  \n",
       "486  [0.0013906048843637109, -0.005211214534938335,...  \n",
       "\n",
       "[487 rows x 4 columns]"
      ]
     },
     "execution_count": 40,
     "metadata": {},
     "output_type": "execute_result"
    }
   ],
   "source": [
    "#(tmp_df[tmp_df[\"source\"]==\"question\"])\n",
    "#tmp_df.loc[486, \"source\"] = \"manual\"\n",
    "tmp_df"
   ]
  },
  {
   "cell_type": "code",
   "execution_count": 19,
   "metadata": {},
   "outputs": [],
   "source": [
    "tmp_df['section'] = tmp_df['section'].str.replace(r'\\.0$', '.', regex=True)"
   ]
  },
  {
   "cell_type": "code",
   "execution_count": 29,
   "metadata": {},
   "outputs": [
    {
     "data": {
      "text/html": [
       "<div>\n",
       "<style scoped>\n",
       "    .dataframe tbody tr th:only-of-type {\n",
       "        vertical-align: middle;\n",
       "    }\n",
       "\n",
       "    .dataframe tbody tr th {\n",
       "        vertical-align: top;\n",
       "    }\n",
       "\n",
       "    .dataframe thead th {\n",
       "        text-align: right;\n",
       "    }\n",
       "</style>\n",
       "<table border=\"1\" class=\"dataframe\">\n",
       "  <thead>\n",
       "    <tr style=\"text-align: right;\">\n",
       "      <th></th>\n",
       "      <th>section</th>\n",
       "      <th>text</th>\n",
       "      <th>source</th>\n",
       "      <th>Embedding</th>\n",
       "    </tr>\n",
       "  </thead>\n",
       "  <tbody>\n",
       "    <tr>\n",
       "      <th>0</th>\n",
       "      <td>2.</td>\n",
       "      <td>What is the purpose of the Protection of Perso...</td>\n",
       "      <td>question</td>\n",
       "      <td>[-0.00897529348731041, -0.004865928087383509, ...</td>\n",
       "    </tr>\n",
       "    <tr>\n",
       "      <th>1</th>\n",
       "      <td>2.</td>\n",
       "      <td>What rights does the Act provide individuals ...</td>\n",
       "      <td>question</td>\n",
       "      <td>[-0.0016322160372510552, 0.0023074529599398375...</td>\n",
       "    </tr>\n",
       "    <tr>\n",
       "      <th>2</th>\n",
       "      <td>2.</td>\n",
       "      <td>What kind of regulatory body is established b...</td>\n",
       "      <td>question</td>\n",
       "      <td>[0.004339318256825209, -0.012121826410293579, ...</td>\n",
       "    </tr>\n",
       "    <tr>\n",
       "      <th>3</th>\n",
       "      <td>3.</td>\n",
       "      <td>What data or information does POPIA apply to?</td>\n",
       "      <td>question</td>\n",
       "      <td>[0.0023713144473731518, 0.0032313510309904814,...</td>\n",
       "    </tr>\n",
       "    <tr>\n",
       "      <th>4</th>\n",
       "      <td>3.</td>\n",
       "      <td>How does the POPIA interact with other laws r...</td>\n",
       "      <td>question</td>\n",
       "      <td>[0.003651085076853633, 0.010420947335660458, 0...</td>\n",
       "    </tr>\n",
       "    <tr>\n",
       "      <th>...</th>\n",
       "      <td>...</td>\n",
       "      <td>...</td>\n",
       "      <td>...</td>\n",
       "      <td>...</td>\n",
       "    </tr>\n",
       "    <tr>\n",
       "      <th>481</th>\n",
       "      <td>111.</td>\n",
       "      <td>Fees</td>\n",
       "      <td>heading</td>\n",
       "      <td>[-0.0012755942298099399, 0.006350830662995577,...</td>\n",
       "    </tr>\n",
       "    <tr>\n",
       "      <th>482</th>\n",
       "      <td>112.</td>\n",
       "      <td>Regulations</td>\n",
       "      <td>heading</td>\n",
       "      <td>[0.0018349532037973404, -0.012941248714923859,...</td>\n",
       "    </tr>\n",
       "    <tr>\n",
       "      <th>483</th>\n",
       "      <td>113.</td>\n",
       "      <td>Procedure for making regulations</td>\n",
       "      <td>heading</td>\n",
       "      <td>[0.009133221581578255, 0.004106280393898487, -...</td>\n",
       "    </tr>\n",
       "    <tr>\n",
       "      <th>484</th>\n",
       "      <td>114.</td>\n",
       "      <td>Transitional arrangements</td>\n",
       "      <td>heading</td>\n",
       "      <td>[0.00048234881251119077, -0.011674447916448116...</td>\n",
       "    </tr>\n",
       "    <tr>\n",
       "      <th>485</th>\n",
       "      <td>115.</td>\n",
       "      <td>Short title and commencement</td>\n",
       "      <td>heading</td>\n",
       "      <td>[-0.004542532376945019, -0.0018438507104292512...</td>\n",
       "    </tr>\n",
       "  </tbody>\n",
       "</table>\n",
       "<p>413 rows × 4 columns</p>\n",
       "</div>"
      ],
      "text/plain": [
       "    section                                               text    source  \\\n",
       "0        2.  What is the purpose of the Protection of Perso...  question   \n",
       "1        2.   What rights does the Act provide individuals ...  question   \n",
       "2        2.   What kind of regulatory body is established b...  question   \n",
       "3        3.     What data or information does POPIA apply to?   question   \n",
       "4        3.   How does the POPIA interact with other laws r...  question   \n",
       "..      ...                                                ...       ...   \n",
       "481    111.                                               Fees   heading   \n",
       "482    112.                                        Regulations   heading   \n",
       "483    113.                   Procedure for making regulations   heading   \n",
       "484    114.                          Transitional arrangements   heading   \n",
       "485    115.                       Short title and commencement   heading   \n",
       "\n",
       "                                             Embedding  \n",
       "0    [-0.00897529348731041, -0.004865928087383509, ...  \n",
       "1    [-0.0016322160372510552, 0.0023074529599398375...  \n",
       "2    [0.004339318256825209, -0.012121826410293579, ...  \n",
       "3    [0.0023713144473731518, 0.0032313510309904814,...  \n",
       "4    [0.003651085076853633, 0.010420947335660458, 0...  \n",
       "..                                                 ...  \n",
       "481  [-0.0012755942298099399, 0.006350830662995577,...  \n",
       "482  [0.0018349532037973404, -0.012941248714923859,...  \n",
       "483  [0.009133221581578255, 0.004106280393898487, -...  \n",
       "484  [0.00048234881251119077, -0.011674447916448116...  \n",
       "485  [-0.004542532376945019, -0.0018438507104292512...  \n",
       "\n",
       "[413 rows x 4 columns]"
      ]
     },
     "execution_count": 29,
     "metadata": {},
     "output_type": "execute_result"
    }
   ],
   "source": [
    "tmp_df[tmp_df[\"section\"].str.endswith(\".\")]"
   ]
  },
  {
   "cell_type": "code",
   "execution_count": 24,
   "metadata": {},
   "outputs": [
    {
     "data": {
      "text/plain": [
       "486"
      ]
     },
     "execution_count": 24,
     "metadata": {},
     "output_type": "execute_result"
    }
   ],
   "source": [
    "len(tmp_df)"
   ]
  },
  {
   "cell_type": "code",
   "execution_count": 8,
   "metadata": {},
   "outputs": [],
   "source": [
    "import importlib\n",
    "import src.valid_index\n",
    "importlib.reload(src.valid_index)\n",
    "from src.valid_index import get_popia_manual_index\n",
    "import re\n",
    "\n",
    "index = get_popia_manual_index()\n"
   ]
  },
  {
   "cell_type": "code",
   "execution_count": 5,
   "metadata": {},
   "outputs": [
    {
     "name": "stdout",
     "output_type": "stream",
     "text": [
      "None\n"
     ]
    }
   ],
   "source": [
    "s = \" B.4(B)(ii)(a) of the Manual states that foreign currency may be made available within the single discretionary allowance limit of R1 million per calendar year to eligible parties. However, the specific limits for adults are not mentioned in the provided sections. Please refer to the relevant section(s) for more information on the limits for travel allowances for adults.\"\n",
    "#s = \"B.4(B)(ii)(a)\"\n",
    "\n",
    "print(index.extract_valid_reference(s))\n"
   ]
  },
  {
   "cell_type": "code",
   "execution_count": 22,
   "metadata": {},
   "outputs": [
    {
     "data": {
      "text/plain": [
       "[['B.4'], ['(B)'], ['ii'], ['(a)', '(s)'], ['(ii)'], []]"
      ]
     },
     "execution_count": 22,
     "metadata": {},
     "output_type": "execute_result"
    }
   ],
   "source": [
    "patterns = [\n",
    "        r'[A-Z]\\.\\d{0,2}',\n",
    "        r'\\([A-Z]\\)',\n",
    "        r'\\(\\b(i|ii|iii|iv|v|vi|vii|viii|ix|x|xi|xii|xiii|xiv|xv|xvi|xvii|xviii|xix|xx|xxi|xxii|xxiii|xxiv|xxv|xxvi|xxvii)\\b\\)',\n",
    "        r'\\([a-z]\\)',\n",
    "        r'\\([a-z]{2}\\)',\n",
    "        r'\\((?:[1-9]|[1-9][0-9])\\)'\n",
    "    ]\n",
    "matches = [re.findall(pattern, s) for pattern in patterns]\n",
    "matches"
   ]
  },
  {
   "cell_type": "code",
   "execution_count": 26,
   "metadata": {},
   "outputs": [
    {
     "data": {
      "text/plain": [
       "<re.Match object; span=(11, 14), match='(a)'>"
      ]
     },
     "execution_count": 26,
     "metadata": {},
     "output_type": "execute_result"
    }
   ],
   "source": [
    "match = re.search(r'\\([a-z]\\)', s)\n",
    "match"
   ]
  },
  {
   "cell_type": "code",
   "execution_count": 30,
   "metadata": {},
   "outputs": [
    {
     "data": {
      "text/plain": [
       "' '"
      ]
     },
     "execution_count": 30,
     "metadata": {},
     "output_type": "execute_result"
    }
   ],
   "source": [
    "s[match.end()]"
   ]
  },
  {
   "cell_type": "code",
   "execution_count": 87,
   "metadata": {},
   "outputs": [
    {
     "data": {
      "text/plain": [
       "'B.5 Personal transfers by foreign nationals and immigrants\\n    (B) Immigrants\\n        (iii) Payments by immigrants\\n            (a) Applications by immigrants may be approved by Authorised Dealers for the provision of foreign currency to cover current and arrear premiums due on foreign currency life insurance policies or contributions to pension and medical aid funds, provided that:\\n                (aa) the necessary declaration and undertaking were completed; and\\n                (bb) documentary evidence is presented, verifying the amounts due and that the commitment was entered into before the applicants took up residence in South Africa.\\n            (b) Immigrants may against the presentation to an Authorised Dealer of documentary evidence confirming the amount involved repay loans received in their previous country of domicile.\\n            (c) Immigrants may settle foreign tax commitments from South Africa against the production of documentary evidence confirming the amount involved.'"
      ]
     },
     "execution_count": 87,
     "metadata": {},
     "output_type": "execute_result"
    }
   ],
   "source": [
    "popia.get_regulation_detail(\"B.5(B)(iii)\")"
   ]
  },
  {
   "cell_type": "code",
   "execution_count": 11,
   "metadata": {},
   "outputs": [
    {
     "name": "stdout",
     "output_type": "stream",
     "text": [
      "You are answering questions for an Authorised Dealer (AD) based only on the relevant sections from the 'Currency and Exchange Manual for Authorised Dealers' (Manual or CEMAD) that are provided. You have three options:\n",
      "1) Answer the question. Preface an answer with the tag 'ANSWER:'. If possible, end the answer with the reference to the section or sections you used to answer the question.\n",
      "2) Request additional documentation. If, in the body of the sections provided, there is a reference to another section of the Manual that is directly relevant and not already provided, respond with the word 'SECTION:' followed by the section reference.\n",
      "3) State 'NONE:' and nothing else in all other cases\n",
      "\n",
      "Note: In the manual sections are numbered like A.1(A) or C.(C)(iii)(c)(cc)(3). The first index uses the regex pattern r'[A-Z]\\.\\d(0, 2)'. Thereafter, each sub-index is surrounded by round brackets\n"
     ]
    }
   ],
   "source": [
    "print(popia._create_system_message())"
   ]
  },
  {
   "cell_type": "code",
   "execution_count": 23,
   "metadata": {},
   "outputs": [
    {
     "data": {
      "text/html": [
       "<div>\n",
       "<style scoped>\n",
       "    .dataframe tbody tr th:only-of-type {\n",
       "        vertical-align: middle;\n",
       "    }\n",
       "\n",
       "    .dataframe tbody tr th {\n",
       "        vertical-align: top;\n",
       "    }\n",
       "\n",
       "    .dataframe thead th {\n",
       "        text-align: right;\n",
       "    }\n",
       "</style>\n",
       "<table border=\"1\" class=\"dataframe\">\n",
       "  <thead>\n",
       "    <tr style=\"text-align: right;\">\n",
       "      <th></th>\n",
       "      <th>section</th>\n",
       "      <th>text</th>\n",
       "      <th>Embedding</th>\n",
       "      <th>source</th>\n",
       "    </tr>\n",
       "  </thead>\n",
       "  <tbody>\n",
       "    <tr>\n",
       "      <th>0</th>\n",
       "      <td>Legal context</td>\n",
       "      <td>Legal context</td>\n",
       "      <td>[0.008710513822734356, -0.01103331707417965, 0...</td>\n",
       "      <td>heading</td>\n",
       "    </tr>\n",
       "    <tr>\n",
       "      <th>1</th>\n",
       "      <td>A.2(A)</td>\n",
       "      <td>Authorised entities. Authorised Dealers</td>\n",
       "      <td>[-0.009998462162911892, -0.009398686699569225,...</td>\n",
       "      <td>heading</td>\n",
       "    </tr>\n",
       "    <tr>\n",
       "      <th>2</th>\n",
       "      <td>A.2(B)</td>\n",
       "      <td>Authorised entities. Authorised Dealers in for...</td>\n",
       "      <td>[-0.009065092541277409, -0.012516901828348637,...</td>\n",
       "      <td>heading</td>\n",
       "    </tr>\n",
       "    <tr>\n",
       "      <th>3</th>\n",
       "      <td>A.3(A)</td>\n",
       "      <td>Duties and responsibilities of Authorised Deal...</td>\n",
       "      <td>[0.009497863240540028, -0.01100919209420681, -...</td>\n",
       "      <td>heading</td>\n",
       "    </tr>\n",
       "    <tr>\n",
       "      <th>4</th>\n",
       "      <td>A.3(B)</td>\n",
       "      <td>Duties and responsibilities of Authorised Deal...</td>\n",
       "      <td>[-0.010621572844684124, -0.014073583297431469,...</td>\n",
       "      <td>heading</td>\n",
       "    </tr>\n",
       "    <tr>\n",
       "      <th>...</th>\n",
       "      <td>...</td>\n",
       "      <td>...</td>\n",
       "      <td>...</td>\n",
       "      <td>...</td>\n",
       "    </tr>\n",
       "    <tr>\n",
       "      <th>1493</th>\n",
       "      <td>J.(G)</td>\n",
       "      <td>What is the procedure for reporting outward pa...</td>\n",
       "      <td>[-0.0016078203916549683, -0.000447303900728002...</td>\n",
       "      <td>question</td>\n",
       "    </tr>\n",
       "    <tr>\n",
       "      <th>1494</th>\n",
       "      <td>J.(G)</td>\n",
       "      <td>Rules for reporting outward payments using the...</td>\n",
       "      <td>[0.005922725424170494, -0.004037913400679827, ...</td>\n",
       "      <td>summary</td>\n",
       "    </tr>\n",
       "    <tr>\n",
       "      <th>1495</th>\n",
       "      <td>B.4(G)(i)</td>\n",
       "      <td>How much money can an individual take offshore?</td>\n",
       "      <td>[0.01233571209013462, -0.03362925723195076, 0....</td>\n",
       "      <td>manual</td>\n",
       "    </tr>\n",
       "    <tr>\n",
       "      <th>1496</th>\n",
       "      <td>B.4(B)(i)</td>\n",
       "      <td>Is there any general guidance on travel?</td>\n",
       "      <td>[0.0002241560723632574, 0.000385825231205672, ...</td>\n",
       "      <td>manual</td>\n",
       "    </tr>\n",
       "    <tr>\n",
       "      <th>1497</th>\n",
       "      <td>B.4(B)(ii)</td>\n",
       "      <td>What are the travel allowance limits?</td>\n",
       "      <td>[0.01554630883038044, -0.011501027271151543, 0...</td>\n",
       "      <td>manual</td>\n",
       "    </tr>\n",
       "  </tbody>\n",
       "</table>\n",
       "<p>1498 rows × 4 columns</p>\n",
       "</div>"
      ],
      "text/plain": [
       "            section                                               text  \\\n",
       "0     Legal context                                      Legal context   \n",
       "1            A.2(A)            Authorised entities. Authorised Dealers   \n",
       "2            A.2(B)  Authorised entities. Authorised Dealers in for...   \n",
       "3            A.3(A)  Duties and responsibilities of Authorised Deal...   \n",
       "4            A.3(B)  Duties and responsibilities of Authorised Deal...   \n",
       "...             ...                                                ...   \n",
       "1493          J.(G)  What is the procedure for reporting outward pa...   \n",
       "1494          J.(G)  Rules for reporting outward payments using the...   \n",
       "1495      B.4(G)(i)    How much money can an individual take offshore?   \n",
       "1496      B.4(B)(i)           Is there any general guidance on travel?   \n",
       "1497     B.4(B)(ii)              What are the travel allowance limits?   \n",
       "\n",
       "                                              Embedding    source  \n",
       "0     [0.008710513822734356, -0.01103331707417965, 0...   heading  \n",
       "1     [-0.009998462162911892, -0.009398686699569225,...   heading  \n",
       "2     [-0.009065092541277409, -0.012516901828348637,...   heading  \n",
       "3     [0.009497863240540028, -0.01100919209420681, -...   heading  \n",
       "4     [-0.010621572844684124, -0.014073583297431469,...   heading  \n",
       "...                                                 ...       ...  \n",
       "1493  [-0.0016078203916549683, -0.000447303900728002...  question  \n",
       "1494  [0.005922725424170494, -0.004037913400679827, ...   summary  \n",
       "1495  [0.01233571209013462, -0.03362925723195076, 0....    manual  \n",
       "1496  [0.0002241560723632574, 0.000385825231205672, ...    manual  \n",
       "1497  [0.01554630883038044, -0.011501027271151543, 0...    manual  \n",
       "\n",
       "[1498 rows x 4 columns]"
      ]
     },
     "execution_count": 23,
     "metadata": {},
     "output_type": "execute_result"
    }
   ],
   "source": [
    "import pandas as pd\n",
    "df_text_all = pd.read_parquet(path_to_index_as_parquet_file, engine='pyarrow')\n",
    "df_text_all"
   ]
  },
  {
   "cell_type": "code",
   "execution_count": null,
   "metadata": {},
   "outputs": [
    {
     "data": {
      "text/plain": [
       "'No section could be found with the reference I.(E)(ii)'"
      ]
     },
     "execution_count": 9,
     "metadata": {},
     "output_type": "execute_result"
    }
   ],
   "source": [
    "popia.get_regulation_detail('I.(1)(E)(ii)')"
   ]
  },
  {
   "cell_type": "code",
   "execution_count": null,
   "metadata": {},
   "outputs": [],
   "source": [
    "#user_context = \"What is a CFC Account?\"\n",
    "#user_context = \"I am submitting documentation to the financial surveillance department. What information do I need to include in my submission?\" # (A.3 (B))\n",
    "#user_context = \"Can a bank provide foreign currency denominated facilities to a South African Corporate?\" #  (A.3 (B))\n",
    "#user_context = \"For how long does the approval for a facility remain valid?\" #  (A.3 (B))\n",
    "#user_context = \"Other than authorised transaction requests, are there requirements for authorised dealers to submit information to the financial surveillance department?\" #  (A.3 (B))\n",
    "#user_context = \"I have been asked to act on an approval issued to another bank. Can I do that?\" #  (A.3 (B))\n",
    "#####user_context = \"--- Same as above but use \"Authorised Dealer\" instead of \"Bank\"\n",
    "#user_context = \"If I am concerned that as client may in breach of regulations, what should I do?\" #  (A.3 (B))\n",
    "#user_context = \"What constitutes 'documentary evidence' for a foreign currency transaction?\" #  (A.3 (C))\n",
    "#user_context = \"Is Swaziland part of the CMA?\" #  (A.3 (E))\n",
    "#user_context = \"A client wants to buy Namibian Dollars. What approvals do they need before they can do this?\" #  (A.3 (E))\n",
    "#user_context = \"A person from Lesotho wants to buy dollars from me. Can I sell them the dollars?\" #  (A.3 (E))\n",
    "#user_context = \"A person from Namibia wants to buy rand from me. Can I sell them the rand?\" #  (A.3 (E))\n",
    "#user_context = \"A treasury management company wants to trade dollars with me. What do I need to check before I can do this?\" #  (A.4 (B))\n",
    "#user_context = \"A client wants to import goods and pay in foreign currency. What documentation do I need before I can assist with the transaction\" #  (B.1 (B))\n",
    "#user_context = \"Over and above the price of the goods, what additional costs can be covered in foreign currency?\" #  (B.1 (C))\n",
    "#user_context = \"Can advance payment be made in a foreign currency to cover imported goods?\" #  (B.1 (D)(i))\n",
    "\n",
    "#user_context = \"Can advance payment be made in a foreign currency to cover imported capital goods?\" #  (B.1 (D)(ii))\n",
    "#user_context = \"When paying for imports in cash, what documentation is required before providing the foreign currency?\" #  (B.1 (D)(iii))\n",
    "\n",
    "#user_context = \"Can imported goods be financed over more than 12 months?\" #  (B.1 (D)(iv))\n",
    "#user_context = \"How much money can an individual invest internationally?\" #  ?\n",
    "#user_context = \"How much money can an individual take offshore?\" #  ?\n",
    "\n",
    "#user_context = \"A media company want to list offshore. Are there specific conditions for this?\"\n",
    "# user_context = \"How many rands can a resident take offshore in cash?\"\n",
    "#user_context = \"Can I grant a foreign company a Rand facility to pay for goods they wish to purchase from a South African exporter?\"\n",
    "#user_context = \"Can I support a non-residential entity with short-term rand trade finance for their exports from South Africa?\"\n",
    "#user_context = \"Hi\"\n",
    "#user_context = \"Who can trade gold?\"\n",
    "#user_context = \"are there specific exchange control rules for religious organizations?\"\n",
    "#user_context = \"How much foreign currency can a charity take offshore each year?\"\n",
    "\n"
   ]
  },
  {
   "cell_type": "code",
   "execution_count": null,
   "metadata": {},
   "outputs": [],
   "source": []
  }
 ],
 "metadata": {
  "kernelspec": {
   "display_name": "Python 3.10.4 ('env': venv)",
   "language": "python",
   "name": "python3"
  },
  "language_info": {
   "codemirror_mode": {
    "name": "ipython",
    "version": 3
   },
   "file_extension": ".py",
   "mimetype": "text/x-python",
   "name": "python",
   "nbconvert_exporter": "python",
   "pygments_lexer": "ipython3",
   "version": "3.10.4"
  },
  "orig_nbformat": 4,
  "vscode": {
   "interpreter": {
    "hash": "e75f7a869b3b99eb3e7c370ce79c7032dbdde321f83052c2d6afbb61bbc03cd8"
   }
  }
 },
 "nbformat": 4,
 "nbformat_minor": 2
}
